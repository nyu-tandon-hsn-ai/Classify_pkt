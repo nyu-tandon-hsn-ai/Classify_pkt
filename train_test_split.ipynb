{
 "cells": [
  {
   "cell_type": "code",
   "execution_count": 1,
   "metadata": {
    "collapsed": true
   },
   "outputs": [],
   "source": [
    "import pandas as pd\n",
    "from sklearn.model_selection import train_test_split\n",
    "import numpy as np"
   ]
  },
  {
   "cell_type": "code",
   "execution_count": null,
   "metadata": {
    "collapsed": true
   },
   "outputs": [],
   "source": []
  },
  {
   "cell_type": "code",
   "execution_count": 2,
   "metadata": {
    "collapsed": true
   },
   "outputs": [],
   "source": [
    "df = pd.read_csv(\"./concatenate.csv\")\n",
    "df = df.drop(df.columns[0], axis=1)"
   ]
  },
  {
   "cell_type": "code",
   "execution_count": 3,
   "metadata": {},
   "outputs": [
    {
     "data": {
      "text/html": [
       "<div>\n",
       "<style>\n",
       "    .dataframe thead tr:only-child th {\n",
       "        text-align: right;\n",
       "    }\n",
       "\n",
       "    .dataframe thead th {\n",
       "        text-align: left;\n",
       "    }\n",
       "\n",
       "    .dataframe tbody tr th {\n",
       "        vertical-align: top;\n",
       "    }\n",
       "</style>\n",
       "<table border=\"1\" class=\"dataframe\">\n",
       "  <thead>\n",
       "    <tr style=\"text-align: right;\">\n",
       "      <th></th>\n",
       "      <th>remote_ip2num</th>\n",
       "      <th>is_tcp</th>\n",
       "      <th>is_udp</th>\n",
       "      <th>pkt_len</th>\n",
       "      <th>outcome</th>\n",
       "    </tr>\n",
       "  </thead>\n",
       "  <tbody>\n",
       "    <tr>\n",
       "      <th>0</th>\n",
       "      <td>794512005</td>\n",
       "      <td>1</td>\n",
       "      <td>0</td>\n",
       "      <td>31</td>\n",
       "      <td>bili</td>\n",
       "    </tr>\n",
       "    <tr>\n",
       "      <th>1</th>\n",
       "      <td>794512005</td>\n",
       "      <td>1</td>\n",
       "      <td>0</td>\n",
       "      <td>0</td>\n",
       "      <td>bili</td>\n",
       "    </tr>\n",
       "    <tr>\n",
       "      <th>2</th>\n",
       "      <td>794512005</td>\n",
       "      <td>1</td>\n",
       "      <td>0</td>\n",
       "      <td>0</td>\n",
       "      <td>bili</td>\n",
       "    </tr>\n",
       "    <tr>\n",
       "      <th>3</th>\n",
       "      <td>794512005</td>\n",
       "      <td>1</td>\n",
       "      <td>0</td>\n",
       "      <td>0</td>\n",
       "      <td>bili</td>\n",
       "    </tr>\n",
       "    <tr>\n",
       "      <th>4</th>\n",
       "      <td>794512005</td>\n",
       "      <td>1</td>\n",
       "      <td>0</td>\n",
       "      <td>31</td>\n",
       "      <td>bili</td>\n",
       "    </tr>\n",
       "  </tbody>\n",
       "</table>\n",
       "</div>"
      ],
      "text/plain": [
       "   remote_ip2num  is_tcp  is_udp  pkt_len outcome\n",
       "0      794512005       1       0       31    bili\n",
       "1      794512005       1       0        0    bili\n",
       "2      794512005       1       0        0    bili\n",
       "3      794512005       1       0        0    bili\n",
       "4      794512005       1       0       31    bili"
      ]
     },
     "execution_count": 3,
     "metadata": {},
     "output_type": "execute_result"
    }
   ],
   "source": [
    "df.head(5)"
   ]
  },
  {
   "cell_type": "code",
   "execution_count": 4,
   "metadata": {},
   "outputs": [
    {
     "data": {
      "text/plain": [
       "1074694"
      ]
     },
     "execution_count": 4,
     "metadata": {},
     "output_type": "execute_result"
    }
   ],
   "source": [
    "len(df)"
   ]
  },
  {
   "cell_type": "code",
   "execution_count": 5,
   "metadata": {
    "collapsed": true
   },
   "outputs": [],
   "source": [
    "## change to 0.50 0.25 0.75\n",
    "\n",
    "## train : test = 7 : 3\n",
    "train_normal, test_normal = train_test_split(df, test_size=0.3)\n",
    "\n",
    "# ## train : test = 0.75 : 0.25\n",
    "# train_normal, test_normal = train_test_split(df_normal, test_size=0.75)\n",
    "\n",
    "# ## train : test = 0.25 : 0.75\n",
    "# train_normal, test_normal = train_test_split(df_normal, test_size=0.25)"
   ]
  },
  {
   "cell_type": "code",
   "execution_count": 6,
   "metadata": {},
   "outputs": [
    {
     "data": {
      "text/plain": [
       "752285"
      ]
     },
     "execution_count": 6,
     "metadata": {},
     "output_type": "execute_result"
    }
   ],
   "source": [
    "len(train_normal)"
   ]
  },
  {
   "cell_type": "code",
   "execution_count": 7,
   "metadata": {},
   "outputs": [
    {
     "data": {
      "text/html": [
       "<div>\n",
       "<style>\n",
       "    .dataframe thead tr:only-child th {\n",
       "        text-align: right;\n",
       "    }\n",
       "\n",
       "    .dataframe thead th {\n",
       "        text-align: left;\n",
       "    }\n",
       "\n",
       "    .dataframe tbody tr th {\n",
       "        vertical-align: top;\n",
       "    }\n",
       "</style>\n",
       "<table border=\"1\" class=\"dataframe\">\n",
       "  <thead>\n",
       "    <tr style=\"text-align: right;\">\n",
       "      <th></th>\n",
       "      <th>remote_ip2num</th>\n",
       "      <th>is_tcp</th>\n",
       "      <th>is_udp</th>\n",
       "      <th>pkt_len</th>\n",
       "      <th>outcome</th>\n",
       "    </tr>\n",
       "  </thead>\n",
       "  <tbody>\n",
       "    <tr>\n",
       "      <th>68638</th>\n",
       "      <td>3419258414</td>\n",
       "      <td>1</td>\n",
       "      <td>0</td>\n",
       "      <td>1300</td>\n",
       "      <td>bili</td>\n",
       "    </tr>\n",
       "    <tr>\n",
       "      <th>398282</th>\n",
       "      <td>1747765669</td>\n",
       "      <td>0</td>\n",
       "      <td>1</td>\n",
       "      <td>906</td>\n",
       "      <td>skype</td>\n",
       "    </tr>\n",
       "    <tr>\n",
       "      <th>897189</th>\n",
       "      <td>3225463870</td>\n",
       "      <td>0</td>\n",
       "      <td>1</td>\n",
       "      <td>147</td>\n",
       "      <td>LoL</td>\n",
       "    </tr>\n",
       "    <tr>\n",
       "      <th>327685</th>\n",
       "      <td>1747765669</td>\n",
       "      <td>0</td>\n",
       "      <td>1</td>\n",
       "      <td>320</td>\n",
       "      <td>skype</td>\n",
       "    </tr>\n",
       "    <tr>\n",
       "      <th>871565</th>\n",
       "      <td>3225463870</td>\n",
       "      <td>0</td>\n",
       "      <td>1</td>\n",
       "      <td>795</td>\n",
       "      <td>LoL</td>\n",
       "    </tr>\n",
       "  </tbody>\n",
       "</table>\n",
       "</div>"
      ],
      "text/plain": [
       "        remote_ip2num  is_tcp  is_udp  pkt_len outcome\n",
       "68638      3419258414       1       0     1300    bili\n",
       "398282     1747765669       0       1      906   skype\n",
       "897189     3225463870       0       1      147     LoL\n",
       "327685     1747765669       0       1      320   skype\n",
       "871565     3225463870       0       1      795     LoL"
      ]
     },
     "execution_count": 7,
     "metadata": {},
     "output_type": "execute_result"
    }
   ],
   "source": [
    "train_normal.head(5)"
   ]
  },
  {
   "cell_type": "code",
   "execution_count": 8,
   "metadata": {
    "collapsed": true
   },
   "outputs": [],
   "source": [
    "# train test split on no sampled data\n",
    "\n",
    "train_normal.to_csv('./train_70%.csv')\n",
    "test_normal.to_csv('./test_30%.csv')"
   ]
  },
  {
   "cell_type": "code",
   "execution_count": 9,
   "metadata": {
    "collapsed": true
   },
   "outputs": [],
   "source": [
    "# # train test split on upsampled data\n",
    "\n",
    "# train_normal.to_csv('/Users/tsaiflow/Desktop/NN&Sampling/data_upsampled_ddos(unb)_normal(own)/test/upsampled/upsampled_samp@80%_.csv')\n",
    "# test_normal.to_csv('/Users/tsaiflow/Desktop/NN&Sampling/data_upsampled_ddos(unb)_normal(own)/test/upsampled/upsampled_samp@80%_.csv')"
   ]
  },
  {
   "cell_type": "code",
   "execution_count": 10,
   "metadata": {
    "collapsed": true
   },
   "outputs": [],
   "source": [
    "# # train test split on upsampled data\n",
    "\n",
    "# train_normal.to_csv('/Users/tsaiflow/Desktop/NN&Sampling/data_upsampled_ddos(unb)_normal(own)/test/no_upsampled/train_nosampled_50%.csv')\n",
    "# test_normal.to_csv('/Users/tsaiflow/Desktop/NN&Sampling/data_upsampled_ddos(unb)_normal(own)/test/no_upsampled/test_nosampled_50%.csv')"
   ]
  }
 ],
 "metadata": {
  "kernelspec": {
   "display_name": "Python 3",
   "language": "python",
   "name": "python3"
  },
  "language_info": {
   "codemirror_mode": {
    "name": "ipython",
    "version": 3
   },
   "file_extension": ".py",
   "mimetype": "text/x-python",
   "name": "python",
   "nbconvert_exporter": "python",
   "pygments_lexer": "ipython3",
   "version": "3.6.1"
  }
 },
 "nbformat": 4,
 "nbformat_minor": 2
}
